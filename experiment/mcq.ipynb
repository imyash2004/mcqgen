{
 "cells": [
  {
   "cell_type": "code",
   "execution_count": 1,
   "metadata": {},
   "outputs": [],
   "source": [
    "import os\n",
    "import json\n",
    "import pandas as pd\n",
    "import traceback"
   ]
  },
  {
   "cell_type": "code",
   "execution_count": 7,
   "metadata": {},
   "outputs": [
    {
     "data": {
      "text/plain": [
       "True"
      ]
     },
     "execution_count": 7,
     "metadata": {},
     "output_type": "execute_result"
    }
   ],
   "source": [
    "from langchain.chat_models import ChatOpenAI\n",
    "load_dotenv()"
   ]
  },
  {
   "cell_type": "code",
   "execution_count": 6,
   "metadata": {},
   "outputs": [],
   "source": [
    "from dotenv import load_dotenv\n"
   ]
  },
  {
   "cell_type": "code",
   "execution_count": 8,
   "metadata": {},
   "outputs": [],
   "source": [
    "KEY=os.getenv(\"OPEN_API_KEY\")"
   ]
  },
  {
   "cell_type": "markdown",
   "metadata": {},
   "source": []
  },
  {
   "cell_type": "code",
   "execution_count": 9,
   "metadata": {},
   "outputs": [
    {
     "name": "stderr",
     "output_type": "stream",
     "text": [
      "/Users/vaibhavagarwal/Desktop/yash/mcqgen/env/lib/python3.9/site-packages/langchain_core/_api/deprecation.py:119: LangChainDeprecationWarning: The class `ChatOpenAI` was deprecated in LangChain 0.0.10 and will be removed in 0.3.0. An updated version of the class exists in the langchain-openai package and should be used instead. To use it run `pip install -U langchain-openai` and import as `from langchain_openai import ChatOpenAI`.\n",
      "  warn_deprecated(\n"
     ]
    }
   ],
   "source": [
    "llm=ChatOpenAI(openai_api_key=KEY,model_name=\"gpt-3.5-turbo\",temperature=0.5)"
   ]
  },
  {
   "cell_type": "code",
   "execution_count": 13,
   "metadata": {},
   "outputs": [],
   "source": [
    "from langchain.llms import OpenAI\n",
    "from langchain.prompts import PromptTemplate\n",
    "from langchain.chains import LLMChain\n",
    "from langchain.chains import SequentialChain\n",
    "from langchain.callbacks import get_openai_callback\n",
    "import PyPDF2\n"
   ]
  },
  {
   "cell_type": "code",
   "execution_count": 23,
   "metadata": {},
   "outputs": [],
   "source": [
    "TEMPLATE=\"\"\"\n",
    "Text:{text}\n",
    "You are an expert MCQ maker. Given the above text, it is your job to \\\n",
    "create a quiz  of {number} multiple choice questions for {subject} students in {tone} tone. \n",
    "Make sure the questions are not repeated and check all the questions to be conforming the text as well.\n",
    "Make sure to format your response like  RESPONSE_JSON below  and use it as a guide. \\\n",
    "Ensure to make {number} MCQs\n",
    "### RESPONSE_JSON\n",
    "{response_json}\n",
    "\"\"\""
   ]
  },
  {
   "cell_type": "code",
   "execution_count": 21,
   "metadata": {},
   "outputs": [],
   "source": [
    "RESPONSE_JSON = {\n",
    "    \"1\": {\n",
    "        \"mcq\": \"multiple choice question\",\n",
    "        \"options\": {\n",
    "            \"a\": \"choice here\",\n",
    "            \"b\": \"choice here\",\n",
    "            \"c\": \"choice here\",\n",
    "            \"d\": \"choice here\",\n",
    "        },\n",
    "        \"correct\": \"correct answer\",\n",
    "    },\n",
    "    \"2\": {\n",
    "        \"mcq\": \"multiple choice question\",\n",
    "        \"options\": {\n",
    "            \"a\": \"choice here\",\n",
    "            \"b\": \"choice here\",\n",
    "            \"c\": \"choice here\",\n",
    "            \"d\": \"choice here\",\n",
    "        },\n",
    "        \"correct\": \"correct answer\",\n",
    "    },\n",
    "    \"3\": {\n",
    "        \"mcq\": \"multiple choice question\",\n",
    "        \"options\": {\n",
    "            \"a\": \"choice here\",\n",
    "            \"b\": \"choice here\",\n",
    "            \"c\": \"choice here\",\n",
    "            \"d\": \"choice here\",\n",
    "        },\n",
    "        \"correct\": \"correct answer\",\n",
    "    },\n",
    "}"
   ]
  },
  {
   "cell_type": "code",
   "execution_count": 18,
   "metadata": {},
   "outputs": [],
   "source": [
    "quiz=PromptTemplate(\n",
    "    input_variables=[\"text\",\"number\",\"subject\",\"tone\",\"response_json\"],\n",
    "    template=TEMPLATE\n",
    ")"
   ]
  },
  {
   "cell_type": "code",
   "execution_count": 19,
   "metadata": {},
   "outputs": [
    {
     "name": "stderr",
     "output_type": "stream",
     "text": [
      "/Users/vaibhavagarwal/Desktop/yash/mcqgen/env/lib/python3.9/site-packages/langchain_core/_api/deprecation.py:119: LangChainDeprecationWarning: The class `LLMChain` was deprecated in LangChain 0.1.17 and will be removed in 0.3.0. Use RunnableSequence, e.g., `prompt | llm` instead.\n",
      "  warn_deprecated(\n"
     ]
    }
   ],
   "source": [
    "quiz_chain=LLMChain(llm=llm,prompt=quiz,output_key=\"quiz\",verbose=True)"
   ]
  },
  {
   "cell_type": "code",
   "execution_count": 20,
   "metadata": {},
   "outputs": [],
   "source": [
    "TEMPLATE2=\"\"\"\n",
    "You are an expert english grammarian and writer. Given a Multiple Choice Quiz for {subject} students.\\\n",
    "You need to evaluate the complexity of the question and give a complete analysis of the quiz. Only use at max 50 words for complexity analysis. \n",
    "if the quiz is not at per with the cognitive and analytical abilities of the students,\\\n",
    "update the quiz questions which needs to be changed and change the tone such that it perfectly fits the student abilities\n",
    "Quiz_MCQs:\n",
    "{quiz}\n",
    "\n",
    "Check from an expert English Writer of the above quiz:\n",
    "\"\"\""
   ]
  },
  {
   "cell_type": "code",
   "execution_count": 37,
   "metadata": {},
   "outputs": [],
   "source": [
    "quiz_eval=PromptTemplate(input_variables=[\"subject\",\"quiz\"],template=TEMPLATE)\n"
   ]
  },
  {
   "cell_type": "code",
   "execution_count": 38,
   "metadata": {},
   "outputs": [],
   "source": [
    "review_chain=LLMChain(llm=llm,prompt=quiz_eval,output_key=\"review\",verbose=True)"
   ]
  },
  {
   "cell_type": "code",
   "execution_count": 39,
   "metadata": {},
   "outputs": [],
   "source": [
    "eval_chain=SequentialChain(chains=[quiz_chain,review_chain],\n",
    "    input_variables=[\"text\",\"number\",\"subject\",\"tone\",\"response_json\"],\n",
    "    output_variables=[\"quiz\",\"review\"],\n",
    "    verbose=True\n",
    ")"
   ]
  },
  {
   "cell_type": "code",
   "execution_count": 40,
   "metadata": {},
   "outputs": [],
   "source": [
    "file_path=r\"/Users/vaibhavagarwal/Desktop/yash/mcqgen/data.txt\""
   ]
  },
  {
   "cell_type": "code",
   "execution_count": 41,
   "metadata": {},
   "outputs": [
    {
     "data": {
      "text/plain": [
       "'/Users/vaibhavagarwal/Desktop/yash/mcqgen/data.txt'"
      ]
     },
     "execution_count": 41,
     "metadata": {},
     "output_type": "execute_result"
    }
   ],
   "source": [
    "file_path"
   ]
  },
  {
   "cell_type": "code",
   "execution_count": null,
   "metadata": {},
   "outputs": [],
   "source": []
  },
  {
   "cell_type": "code",
   "execution_count": 42,
   "metadata": {},
   "outputs": [],
   "source": [
    "with open(file_path,'r') as file:\n",
    "    TEXT=file.read()"
   ]
  },
  {
   "cell_type": "code",
   "execution_count": 30,
   "metadata": {},
   "outputs": [
    {
     "name": "stdout",
     "output_type": "stream",
     "text": [
      "OpenAI is an American artificial intelligence (AI) research organization founded in December 2015, researching artificial intelligence with the goal of developing \"safe and beneficial\" artificial general intelligence, which it defines as \"highly autonomous systems that outperform humans at most economically valuable work.\"[4] As one of the leading organizations of the AI boom,[5][6][7] it has developed several large language models, advanced image generation models, and previously, released open-source models.[8][9] Its release of ChatGPT has been credited with starting the AI boom.[10]\n",
      "\n",
      "The organization consists of the non-profit OpenAI, Inc.[11] registered in Delaware and its for-profit subsidiary OpenAI Global, LLC.[12] It was founded by Ilya Sutskever, Greg Brockman, Trevor Blackwell, Vicki Cheung, Andrej Karpathy, Durk Kingma, Jessica Livingston, John Schulman, Pamela Vagata, and Wojciech Zaremba, with Sam Altman and Elon Musk serving as the initial Board of Directors members.[13][14][15] Microsoft provided OpenAI Global, LLC with a $1 billion investment in 2019 and a $10 billion investment in 2023,[16][17] with a significant portion of the investment in the form of computational resources on Microsoft's Azure cloud service.[18]\n",
      "\n",
      "On November 17, 2023, the board removed Altman as CEO, while Brockman was removed as chairman and then resigned as president. Four days later, both returned after negotiations with the board, and most of the board members resigned. The new initial board included former Salesforce co-CEO Bret Taylor as chairman.[19] It was also announced that Microsoft will have a non-voting board seat.[20]\n"
     ]
    }
   ],
   "source": [
    "print(TEXT)"
   ]
  },
  {
   "cell_type": "code",
   "execution_count": 43,
   "metadata": {},
   "outputs": [
    {
     "data": {
      "text/plain": [
       "'{\"1\": {\"mcq\": \"multiple choice question\", \"options\": {\"a\": \"choice here\", \"b\": \"choice here\", \"c\": \"choice here\", \"d\": \"choice here\"}, \"correct\": \"correct answer\"}, \"2\": {\"mcq\": \"multiple choice question\", \"options\": {\"a\": \"choice here\", \"b\": \"choice here\", \"c\": \"choice here\", \"d\": \"choice here\"}, \"correct\": \"correct answer\"}, \"3\": {\"mcq\": \"multiple choice question\", \"options\": {\"a\": \"choice here\", \"b\": \"choice here\", \"c\": \"choice here\", \"d\": \"choice here\"}, \"correct\": \"correct answer\"}}'"
      ]
     },
     "execution_count": 43,
     "metadata": {},
     "output_type": "execute_result"
    }
   ],
   "source": [
    "json.dumps(RESPONSE_JSON)"
   ]
  },
  {
   "cell_type": "code",
   "execution_count": 44,
   "metadata": {},
   "outputs": [],
   "source": [
    "NUMBER=5\n",
    "SUBJECT=\"machine learning\"\n",
    "TONE=\"simple\""
   ]
  },
  {
   "cell_type": "code",
   "execution_count": 45,
   "metadata": {},
   "outputs": [
    {
     "name": "stdout",
     "output_type": "stream",
     "text": [
      "\n",
      "\n",
      "\u001b[1m> Entering new SequentialChain chain...\u001b[0m\n",
      "\n",
      "\n",
      "\u001b[1m> Entering new LLMChain chain...\u001b[0m\n",
      "Prompt after formatting:\n",
      "\u001b[32;1m\u001b[1;3m\n",
      "Text:OpenAI is an American artificial intelligence (AI) research organization founded in December 2015, researching artificial intelligence with the goal of developing \"safe and beneficial\" artificial general intelligence, which it defines as \"highly autonomous systems that outperform humans at most economically valuable work.\"[4] As one of the leading organizations of the AI boom,[5][6][7] it has developed several large language models, advanced image generation models, and previously, released open-source models.[8][9] Its release of ChatGPT has been credited with starting the AI boom.[10]\n",
      "\n",
      "The organization consists of the non-profit OpenAI, Inc.[11] registered in Delaware and its for-profit subsidiary OpenAI Global, LLC.[12] It was founded by Ilya Sutskever, Greg Brockman, Trevor Blackwell, Vicki Cheung, Andrej Karpathy, Durk Kingma, Jessica Livingston, John Schulman, Pamela Vagata, and Wojciech Zaremba, with Sam Altman and Elon Musk serving as the initial Board of Directors members.[13][14][15] Microsoft provided OpenAI Global, LLC with a $1 billion investment in 2019 and a $10 billion investment in 2023,[16][17] with a significant portion of the investment in the form of computational resources on Microsoft's Azure cloud service.[18]\n",
      "\n",
      "On November 17, 2023, the board removed Altman as CEO, while Brockman was removed as chairman and then resigned as president. Four days later, both returned after negotiations with the board, and most of the board members resigned. The new initial board included former Salesforce co-CEO Bret Taylor as chairman.[19] It was also announced that Microsoft will have a non-voting board seat.[20]\n",
      "You are an expert MCQ maker. Given the above text, it is your job to create a quiz  of 5 multiple choice questions for machine learning students in simple tone. \n",
      "Make sure the questions are not repeated and check all the questions to be conforming the text as well.\n",
      "Make sure to format your response like  RESPONSE_JSON below  and use it as a guide. Ensure to make 5 MCQs\n",
      "### RESPONSE_JSON\n",
      "{\"1\": {\"mcq\": \"multiple choice question\", \"options\": {\"a\": \"choice here\", \"b\": \"choice here\", \"c\": \"choice here\", \"d\": \"choice here\"}, \"correct\": \"correct answer\"}, \"2\": {\"mcq\": \"multiple choice question\", \"options\": {\"a\": \"choice here\", \"b\": \"choice here\", \"c\": \"choice here\", \"d\": \"choice here\"}, \"correct\": \"correct answer\"}, \"3\": {\"mcq\": \"multiple choice question\", \"options\": {\"a\": \"choice here\", \"b\": \"choice here\", \"c\": \"choice here\", \"d\": \"choice here\"}, \"correct\": \"correct answer\"}}\n",
      "\u001b[0m\n",
      "\n",
      "\u001b[1m> Finished chain.\u001b[0m\n",
      "\n",
      "\n",
      "\u001b[1m> Entering new LLMChain chain...\u001b[0m\n",
      "Prompt after formatting:\n",
      "\u001b[32;1m\u001b[1;3m\n",
      "Text:OpenAI is an American artificial intelligence (AI) research organization founded in December 2015, researching artificial intelligence with the goal of developing \"safe and beneficial\" artificial general intelligence, which it defines as \"highly autonomous systems that outperform humans at most economically valuable work.\"[4] As one of the leading organizations of the AI boom,[5][6][7] it has developed several large language models, advanced image generation models, and previously, released open-source models.[8][9] Its release of ChatGPT has been credited with starting the AI boom.[10]\n",
      "\n",
      "The organization consists of the non-profit OpenAI, Inc.[11] registered in Delaware and its for-profit subsidiary OpenAI Global, LLC.[12] It was founded by Ilya Sutskever, Greg Brockman, Trevor Blackwell, Vicki Cheung, Andrej Karpathy, Durk Kingma, Jessica Livingston, John Schulman, Pamela Vagata, and Wojciech Zaremba, with Sam Altman and Elon Musk serving as the initial Board of Directors members.[13][14][15] Microsoft provided OpenAI Global, LLC with a $1 billion investment in 2019 and a $10 billion investment in 2023,[16][17] with a significant portion of the investment in the form of computational resources on Microsoft's Azure cloud service.[18]\n",
      "\n",
      "On November 17, 2023, the board removed Altman as CEO, while Brockman was removed as chairman and then resigned as president. Four days later, both returned after negotiations with the board, and most of the board members resigned. The new initial board included former Salesforce co-CEO Bret Taylor as chairman.[19] It was also announced that Microsoft will have a non-voting board seat.[20]\n",
      "You are an expert MCQ maker. Given the above text, it is your job to create a quiz  of 5 multiple choice questions for machine learning students in simple tone. \n",
      "Make sure the questions are not repeated and check all the questions to be conforming the text as well.\n",
      "Make sure to format your response like  RESPONSE_JSON below  and use it as a guide. Ensure to make 5 MCQs\n",
      "### RESPONSE_JSON\n",
      "{\"1\": {\"mcq\": \"multiple choice question\", \"options\": {\"a\": \"choice here\", \"b\": \"choice here\", \"c\": \"choice here\", \"d\": \"choice here\"}, \"correct\": \"correct answer\"}, \"2\": {\"mcq\": \"multiple choice question\", \"options\": {\"a\": \"choice here\", \"b\": \"choice here\", \"c\": \"choice here\", \"d\": \"choice here\"}, \"correct\": \"correct answer\"}, \"3\": {\"mcq\": \"multiple choice question\", \"options\": {\"a\": \"choice here\", \"b\": \"choice here\", \"c\": \"choice here\", \"d\": \"choice here\"}, \"correct\": \"correct answer\"}}\n",
      "\u001b[0m\n",
      "\n",
      "\u001b[1m> Finished chain.\u001b[0m\n",
      "\n",
      "\u001b[1m> Finished chain.\u001b[0m\n"
     ]
    }
   ],
   "source": [
    "with get_openai_callback() as cb:\n",
    "    response=eval_chain(\n",
    "        {\n",
    "            \"text\":TEXT,\n",
    "            \"number\":NUMBER,\n",
    "            \"subject\":SUBJECT,\n",
    "            \"tone\":TONE,\n",
    "            \"response_json\":json.dumps(RESPONSE_JSON)\n",
    "        }\n",
    "    )"
   ]
  },
  {
   "cell_type": "code",
   "execution_count": 35,
   "metadata": {},
   "outputs": [
    {
     "name": "stdout",
     "output_type": "stream",
     "text": [
      "Total Tokens:1531\n",
      "Prompt Tokens:1102\n",
      "Completion Tokens:429\n",
      "Total Cost:0.002511\n"
     ]
    }
   ],
   "source": [
    "print(f\"Total Tokens:{cb.total_tokens}\")\n",
    "print(f\"Prompt Tokens:{cb.prompt_tokens}\")\n",
    "print(f\"Completion Tokens:{cb.completion_tokens}\")\n",
    "print(f\"Total Cost:{cb.total_cost}\")"
   ]
  },
  {
   "cell_type": "code",
   "execution_count": 46,
   "metadata": {},
   "outputs": [
    {
     "data": {
      "text/plain": [
       "{'text': 'OpenAI is an American artificial intelligence (AI) research organization founded in December 2015, researching artificial intelligence with the goal of developing \"safe and beneficial\" artificial general intelligence, which it defines as \"highly autonomous systems that outperform humans at most economically valuable work.\"[4] As one of the leading organizations of the AI boom,[5][6][7] it has developed several large language models, advanced image generation models, and previously, released open-source models.[8][9] Its release of ChatGPT has been credited with starting the AI boom.[10]\\n\\nThe organization consists of the non-profit OpenAI, Inc.[11] registered in Delaware and its for-profit subsidiary OpenAI Global, LLC.[12] It was founded by Ilya Sutskever, Greg Brockman, Trevor Blackwell, Vicki Cheung, Andrej Karpathy, Durk Kingma, Jessica Livingston, John Schulman, Pamela Vagata, and Wojciech Zaremba, with Sam Altman and Elon Musk serving as the initial Board of Directors members.[13][14][15] Microsoft provided OpenAI Global, LLC with a $1 billion investment in 2019 and a $10 billion investment in 2023,[16][17] with a significant portion of the investment in the form of computational resources on Microsoft\\'s Azure cloud service.[18]\\n\\nOn November 17, 2023, the board removed Altman as CEO, while Brockman was removed as chairman and then resigned as president. Four days later, both returned after negotiations with the board, and most of the board members resigned. The new initial board included former Salesforce co-CEO Bret Taylor as chairman.[19] It was also announced that Microsoft will have a non-voting board seat.[20]',\n",
       " 'number': 5,\n",
       " 'subject': 'machine learning',\n",
       " 'tone': 'simple',\n",
       " 'response_json': '{\"1\": {\"mcq\": \"multiple choice question\", \"options\": {\"a\": \"choice here\", \"b\": \"choice here\", \"c\": \"choice here\", \"d\": \"choice here\"}, \"correct\": \"correct answer\"}, \"2\": {\"mcq\": \"multiple choice question\", \"options\": {\"a\": \"choice here\", \"b\": \"choice here\", \"c\": \"choice here\", \"d\": \"choice here\"}, \"correct\": \"correct answer\"}, \"3\": {\"mcq\": \"multiple choice question\", \"options\": {\"a\": \"choice here\", \"b\": \"choice here\", \"c\": \"choice here\", \"d\": \"choice here\"}, \"correct\": \"correct answer\"}}',\n",
       " 'quiz': '{\\n\"1\": {\\n\"mcq\": \"Who founded OpenAI?\",\\n\"options\": {\"a\": \"Bill Gates\", \"b\": \"Elon Musk\", \"c\": \"Mark Zuckerberg\", \"d\": \"Jeff Bezos\"},\\n\"correct\": \"b\"\\n},\\n\"2\": {\\n\"mcq\": \"What is the goal of OpenAI?\",\\n\"options\": {\"a\": \"To develop artificial general stupidity\", \"b\": \"To develop safe and beneficial artificial general intelligence\", \"c\": \"To outperform humans in all tasks\", \"d\": \"To create chaos in the AI world\"},\\n\"correct\": \"b\"\\n},\\n\"3\": {\\n\"mcq\": \"Which company provided a $1 billion investment to OpenAI in 2019?\",\\n\"options\": {\"a\": \"Google\", \"b\": \"Apple\", \"c\": \"Microsoft\", \"d\": \"Amazon\"},\\n\"correct\": \"c\"\\n},\\n\"4\": {\\n\"mcq\": \"Who was removed as CEO of OpenAI in November 2023?\",\\n\"options\": {\"a\": \"Elon Musk\", \"b\": \"Greg Brockman\", \"c\": \"Sam Altman\", \"d\": \"Ilya Sutskever\"},\\n\"correct\": \"c\"\\n},\\n\"5\": {\\n\"mcq\": \"Who was announced as the new chairman of OpenAI after the board changes in November 2023?\",\\n\"options\": {\"a\": \"Elon Musk\", \"b\": \"Bret Taylor\", \"c\": \"Bill Gates\", \"d\": \"Jeff Bezos\"},\\n\"correct\": \"b\"\\n}\\n}',\n",
       " 'review': '\\n{\\n\"1\": {\\n\"mcq\": \"What is the main goal of OpenAI?\",\\n\"options\": {\\n\"a\": \"Developing safe and beneficial artificial general intelligence\",\\n\"b\": \"Creating advanced image generation models\",\\n\"c\": \"Investing in open-source projects\",\\n\"d\": \"Improving natural language processing\"\\n},\\n\"correct\": \"a\"\\n},\\n\"2\": {\\n\"mcq\": \"Who provided OpenAI Global, LLC with a $1 billion investment in 2019?\",\\n\"options\": {\\n\"a\": \"Elon Musk\",\\n\"b\": \"Microsoft\",\\n\"c\": \"Sam Altman\",\\n\"d\": \"Andrej Karpathy\"\\n},\\n\"correct\": \"b\"\\n},\\n\"3\": {\\n\"mcq\": \"When was OpenAI founded?\",\\n\"options\": {\\n\"a\": \"2010\",\\n\"b\": \"2015\",\\n\"c\": \"2020\",\\n\"d\": \"2023\"\\n},\\n\"correct\": \"b\"\\n},\\n\"4\": {\\n\"mcq\": \"Who was removed as CEO of OpenAI on November 17, 2023?\",\\n\"options\": {\\n\"a\": \"Elon Musk\",\\n\"b\": \"Greg Brockman\",\\n\"c\": \"Sam Altman\",\\n\"d\": \"Ilya Sutskever\"\\n},\\n\"correct\": \"c\"\\n},\\n\"5\": {\\n\"mcq\": \"Who was announced as the new chairman of OpenAI after the board reshuffle?\",\\n\"options\": {\\n\"a\": \"Elon Musk\",\\n\"b\": \"Bret Taylor\",\\n\"c\": \"Jessica Livingston\",\\n\"d\": \"Wojciech Zaremba\"\\n},\\n\"correct\": \"b\"\\n}\\n}'}"
      ]
     },
     "execution_count": 46,
     "metadata": {},
     "output_type": "execute_result"
    }
   ],
   "source": [
    "response"
   ]
  },
  {
   "cell_type": "code",
   "execution_count": 48,
   "metadata": {},
   "outputs": [
    {
     "data": {
      "text/plain": [
       "{'1': {'mcq': 'Who founded OpenAI?',\n",
       "  'options': {'a': 'Bill Gates',\n",
       "   'b': 'Elon Musk',\n",
       "   'c': 'Mark Zuckerberg',\n",
       "   'd': 'Jeff Bezos'},\n",
       "  'correct': 'b'},\n",
       " '2': {'mcq': 'What is the goal of OpenAI?',\n",
       "  'options': {'a': 'To develop artificial general stupidity',\n",
       "   'b': 'To develop safe and beneficial artificial general intelligence',\n",
       "   'c': 'To outperform humans in all tasks',\n",
       "   'd': 'To create chaos in the AI world'},\n",
       "  'correct': 'b'},\n",
       " '3': {'mcq': 'Which company provided a $1 billion investment to OpenAI in 2019?',\n",
       "  'options': {'a': 'Google', 'b': 'Apple', 'c': 'Microsoft', 'd': 'Amazon'},\n",
       "  'correct': 'c'},\n",
       " '4': {'mcq': 'Who was removed as CEO of OpenAI in November 2023?',\n",
       "  'options': {'a': 'Elon Musk',\n",
       "   'b': 'Greg Brockman',\n",
       "   'c': 'Sam Altman',\n",
       "   'd': 'Ilya Sutskever'},\n",
       "  'correct': 'c'},\n",
       " '5': {'mcq': 'Who was announced as the new chairman of OpenAI after the board changes in November 2023?',\n",
       "  'options': {'a': 'Elon Musk',\n",
       "   'b': 'Bret Taylor',\n",
       "   'c': 'Bill Gates',\n",
       "   'd': 'Jeff Bezos'},\n",
       "  'correct': 'b'}}"
      ]
     },
     "execution_count": 48,
     "metadata": {},
     "output_type": "execute_result"
    }
   ],
   "source": [
    "exam_quiz=response.get(\"quiz\");\n",
    "exam_quiz=json.loads(exam_quiz)\n",
    "exam_quiz"
   ]
  },
  {
   "cell_type": "code",
   "execution_count": 51,
   "metadata": {},
   "outputs": [],
   "source": [
    "# table=[]\n",
    "# for key,value in exam_quiz.items():\n",
    "#     mcq=value[\"mcq\"]\n",
    "#     options=\"      \"  .join(\n",
    "#         [\n",
    "#             f\"{option}:{option_value}\"\n",
    "#             for option ,option_value in value[\"options\"].items()\n",
    "#         ]\n",
    "#     )\n",
    "#     correct=value[\"correct\"]\n",
    "#     table.append({\"MCQ\":mcq,\"CHOICES\":options,\"CORRECT\":correct})\n",
    "table = []\n",
    "\n",
    "for key, value in exam_quiz.items():\n",
    "    mcq = value[\"mcq\"]\n",
    "    options = \"\"\n",
    "    for opt, val in value[\"options\"].items():\n",
    "        options += opt + \": \" + str(val) + \"      \"\n",
    "    options = options.rstrip(\"      \")  \n",
    "    correct = value[\"correct\"]\n",
    "    table.append({\"MCQ\": mcq, \"CHOICES\": options, \"CORRECT\": correct})\n",
    "\n"
   ]
  },
  {
   "cell_type": "code",
   "execution_count": 52,
   "metadata": {},
   "outputs": [
    {
     "data": {
      "text/plain": [
       "[{'MCQ': 'Who founded OpenAI?',\n",
       "  'CHOICES': 'a: Bill Gates      b: Elon Musk      c: Mark Zuckerberg      d: Jeff Bezos',\n",
       "  'CORRECT': 'b'},\n",
       " {'MCQ': 'What is the goal of OpenAI?',\n",
       "  'CHOICES': 'a: To develop artificial general stupidity      b: To develop safe and beneficial artificial general intelligence      c: To outperform humans in all tasks      d: To create chaos in the AI world',\n",
       "  'CORRECT': 'b'},\n",
       " {'MCQ': 'Which company provided a $1 billion investment to OpenAI in 2019?',\n",
       "  'CHOICES': 'a: Google      b: Apple      c: Microsoft      d: Amazon',\n",
       "  'CORRECT': 'c'},\n",
       " {'MCQ': 'Who was removed as CEO of OpenAI in November 2023?',\n",
       "  'CHOICES': 'a: Elon Musk      b: Greg Brockman      c: Sam Altman      d: Ilya Sutskever',\n",
       "  'CORRECT': 'c'},\n",
       " {'MCQ': 'Who was announced as the new chairman of OpenAI after the board changes in November 2023?',\n",
       "  'CHOICES': 'a: Elon Musk      b: Bret Taylor      c: Bill Gates      d: Jeff Bezos',\n",
       "  'CORRECT': 'b'}]"
      ]
     },
     "execution_count": 52,
     "metadata": {},
     "output_type": "execute_result"
    }
   ],
   "source": [
    "table"
   ]
  },
  {
   "cell_type": "code",
   "execution_count": 54,
   "metadata": {},
   "outputs": [
    {
     "data": {
      "text/html": [
       "<div>\n",
       "<style scoped>\n",
       "    .dataframe tbody tr th:only-of-type {\n",
       "        vertical-align: middle;\n",
       "    }\n",
       "\n",
       "    .dataframe tbody tr th {\n",
       "        vertical-align: top;\n",
       "    }\n",
       "\n",
       "    .dataframe thead th {\n",
       "        text-align: right;\n",
       "    }\n",
       "</style>\n",
       "<table border=\"1\" class=\"dataframe\">\n",
       "  <thead>\n",
       "    <tr style=\"text-align: right;\">\n",
       "      <th></th>\n",
       "      <th>MCQ</th>\n",
       "      <th>CHOICES</th>\n",
       "      <th>CORRECT</th>\n",
       "    </tr>\n",
       "  </thead>\n",
       "  <tbody>\n",
       "    <tr>\n",
       "      <th>0</th>\n",
       "      <td>Who founded OpenAI?</td>\n",
       "      <td>a: Bill Gates      b: Elon Musk      c: Mark Z...</td>\n",
       "      <td>b</td>\n",
       "    </tr>\n",
       "    <tr>\n",
       "      <th>1</th>\n",
       "      <td>What is the goal of OpenAI?</td>\n",
       "      <td>a: To develop artificial general stupidity    ...</td>\n",
       "      <td>b</td>\n",
       "    </tr>\n",
       "    <tr>\n",
       "      <th>2</th>\n",
       "      <td>Which company provided a $1 billion investment...</td>\n",
       "      <td>a: Google      b: Apple      c: Microsoft     ...</td>\n",
       "      <td>c</td>\n",
       "    </tr>\n",
       "    <tr>\n",
       "      <th>3</th>\n",
       "      <td>Who was removed as CEO of OpenAI in November 2...</td>\n",
       "      <td>a: Elon Musk      b: Greg Brockman      c: Sam...</td>\n",
       "      <td>c</td>\n",
       "    </tr>\n",
       "    <tr>\n",
       "      <th>4</th>\n",
       "      <td>Who was announced as the new chairman of OpenA...</td>\n",
       "      <td>a: Elon Musk      b: Bret Taylor      c: Bill ...</td>\n",
       "      <td>b</td>\n",
       "    </tr>\n",
       "  </tbody>\n",
       "</table>\n",
       "</div>"
      ],
      "text/plain": [
       "                                                 MCQ  \\\n",
       "0                                Who founded OpenAI?   \n",
       "1                        What is the goal of OpenAI?   \n",
       "2  Which company provided a $1 billion investment...   \n",
       "3  Who was removed as CEO of OpenAI in November 2...   \n",
       "4  Who was announced as the new chairman of OpenA...   \n",
       "\n",
       "                                             CHOICES CORRECT  \n",
       "0  a: Bill Gates      b: Elon Musk      c: Mark Z...       b  \n",
       "1  a: To develop artificial general stupidity    ...       b  \n",
       "2  a: Google      b: Apple      c: Microsoft     ...       c  \n",
       "3  a: Elon Musk      b: Greg Brockman      c: Sam...       c  \n",
       "4  a: Elon Musk      b: Bret Taylor      c: Bill ...       b  "
      ]
     },
     "execution_count": 54,
     "metadata": {},
     "output_type": "execute_result"
    }
   ],
   "source": [
    "exam_quiz=pd.DataFrame(table)\n",
    "exam_quiz"
   ]
  },
  {
   "cell_type": "code",
   "execution_count": null,
   "metadata": {},
   "outputs": [],
   "source": [
    "exam_quiz.to_csv(\"quizesss.csv\",index=False)"
   ]
  }
 ],
 "metadata": {
  "kernelspec": {
   "display_name": "Python 3",
   "language": "python",
   "name": "python3"
  },
  "language_info": {
   "codemirror_mode": {
    "name": "ipython",
    "version": 3
   },
   "file_extension": ".py",
   "mimetype": "text/x-python",
   "name": "python",
   "nbconvert_exporter": "python",
   "pygments_lexer": "ipython3",
   "version": "3.9.19"
  },
  "orig_nbformat": 4
 },
 "nbformat": 4,
 "nbformat_minor": 2
}
